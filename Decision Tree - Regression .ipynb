{
 "cells": [
  {
   "cell_type": "markdown",
   "id": "8144c33e",
   "metadata": {},
   "source": [
    "# Decision Tree Regression"
   ]
  },
  {
   "cell_type": "code",
   "execution_count": 2,
   "id": "3186a578",
   "metadata": {},
   "outputs": [],
   "source": [
    "import pandas as pd\n"
   ]
  },
  {
   "cell_type": "code",
   "execution_count": 4,
   "id": "a68a29d4",
   "metadata": {},
   "outputs": [],
   "source": [
    "import statsmodels.api as smapi\n",
    "from sklearn.tree import DecisionTreeRegressor"
   ]
  },
  {
   "cell_type": "code",
   "execution_count": 5,
   "id": "630cc32e",
   "metadata": {},
   "outputs": [],
   "source": [
    "from sklearn.model_selection import train_test_split\n",
    "from sklearn.metrics import mean_squared_error"
   ]
  },
  {
   "cell_type": "markdown",
   "id": "d370b102",
   "metadata": {},
   "source": [
    "# Read the file"
   ]
  },
  {
   "cell_type": "code",
   "execution_count": 6,
   "id": "3165be0e",
   "metadata": {},
   "outputs": [],
   "source": [
    "path = \"C:/Users/Ansari Aaquib/Downloads/drive-download-20210519T143124Z-001/Decision Tree/concrete.csv\""
   ]
  },
  {
   "cell_type": "code",
   "execution_count": 7,
   "id": "0696ac4e",
   "metadata": {},
   "outputs": [],
   "source": [
    "conc = pd.read_csv(path)"
   ]
  },
  {
   "cell_type": "code",
   "execution_count": 8,
   "id": "cd6e916d",
   "metadata": {},
   "outputs": [
    {
     "data": {
      "text/html": [
       "<div>\n",
       "<style scoped>\n",
       "    .dataframe tbody tr th:only-of-type {\n",
       "        vertical-align: middle;\n",
       "    }\n",
       "\n",
       "    .dataframe tbody tr th {\n",
       "        vertical-align: top;\n",
       "    }\n",
       "\n",
       "    .dataframe thead th {\n",
       "        text-align: right;\n",
       "    }\n",
       "</style>\n",
       "<table border=\"1\" class=\"dataframe\">\n",
       "  <thead>\n",
       "    <tr style=\"text-align: right;\">\n",
       "      <th></th>\n",
       "      <th>cementcomp</th>\n",
       "      <th>slag</th>\n",
       "      <th>flyash</th>\n",
       "      <th>water</th>\n",
       "      <th>superplastisizer</th>\n",
       "      <th>coraseaggr</th>\n",
       "      <th>finraggr</th>\n",
       "      <th>age</th>\n",
       "      <th>CCS</th>\n",
       "    </tr>\n",
       "  </thead>\n",
       "  <tbody>\n",
       "    <tr>\n",
       "      <th>0</th>\n",
       "      <td>540.0</td>\n",
       "      <td>0.0</td>\n",
       "      <td>0.0</td>\n",
       "      <td>162.0</td>\n",
       "      <td>2.5</td>\n",
       "      <td>1040.0</td>\n",
       "      <td>676.0</td>\n",
       "      <td>28</td>\n",
       "      <td>79.99</td>\n",
       "    </tr>\n",
       "    <tr>\n",
       "      <th>1</th>\n",
       "      <td>540.0</td>\n",
       "      <td>0.0</td>\n",
       "      <td>0.0</td>\n",
       "      <td>162.0</td>\n",
       "      <td>2.5</td>\n",
       "      <td>1055.0</td>\n",
       "      <td>676.0</td>\n",
       "      <td>28</td>\n",
       "      <td>61.89</td>\n",
       "    </tr>\n",
       "    <tr>\n",
       "      <th>2</th>\n",
       "      <td>332.5</td>\n",
       "      <td>142.5</td>\n",
       "      <td>0.0</td>\n",
       "      <td>228.0</td>\n",
       "      <td>0.0</td>\n",
       "      <td>932.0</td>\n",
       "      <td>594.0</td>\n",
       "      <td>270</td>\n",
       "      <td>40.27</td>\n",
       "    </tr>\n",
       "    <tr>\n",
       "      <th>3</th>\n",
       "      <td>332.5</td>\n",
       "      <td>142.5</td>\n",
       "      <td>0.0</td>\n",
       "      <td>228.0</td>\n",
       "      <td>0.0</td>\n",
       "      <td>932.0</td>\n",
       "      <td>594.0</td>\n",
       "      <td>365</td>\n",
       "      <td>41.05</td>\n",
       "    </tr>\n",
       "    <tr>\n",
       "      <th>4</th>\n",
       "      <td>198.6</td>\n",
       "      <td>132.4</td>\n",
       "      <td>0.0</td>\n",
       "      <td>192.0</td>\n",
       "      <td>0.0</td>\n",
       "      <td>978.4</td>\n",
       "      <td>825.5</td>\n",
       "      <td>360</td>\n",
       "      <td>44.30</td>\n",
       "    </tr>\n",
       "  </tbody>\n",
       "</table>\n",
       "</div>"
      ],
      "text/plain": [
       "   cementcomp   slag  flyash  water  superplastisizer  coraseaggr  finraggr  \\\n",
       "0       540.0    0.0     0.0  162.0               2.5      1040.0     676.0   \n",
       "1       540.0    0.0     0.0  162.0               2.5      1055.0     676.0   \n",
       "2       332.5  142.5     0.0  228.0               0.0       932.0     594.0   \n",
       "3       332.5  142.5     0.0  228.0               0.0       932.0     594.0   \n",
       "4       198.6  132.4     0.0  192.0               0.0       978.4     825.5   \n",
       "\n",
       "   age    CCS  \n",
       "0   28  79.99  \n",
       "1   28  61.89  \n",
       "2  270  40.27  \n",
       "3  365  41.05  \n",
       "4  360  44.30  "
      ]
     },
     "execution_count": 8,
     "metadata": {},
     "output_type": "execute_result"
    }
   ],
   "source": [
    "conc.head()"
   ]
  },
  {
   "cell_type": "code",
   "execution_count": 9,
   "id": "de65fbc9",
   "metadata": {},
   "outputs": [
    {
     "data": {
      "text/html": [
       "<div>\n",
       "<style scoped>\n",
       "    .dataframe tbody tr th:only-of-type {\n",
       "        vertical-align: middle;\n",
       "    }\n",
       "\n",
       "    .dataframe tbody tr th {\n",
       "        vertical-align: top;\n",
       "    }\n",
       "\n",
       "    .dataframe thead th {\n",
       "        text-align: right;\n",
       "    }\n",
       "</style>\n",
       "<table border=\"1\" class=\"dataframe\">\n",
       "  <thead>\n",
       "    <tr style=\"text-align: right;\">\n",
       "      <th></th>\n",
       "      <th>cementcomp</th>\n",
       "      <th>slag</th>\n",
       "      <th>flyash</th>\n",
       "      <th>water</th>\n",
       "      <th>superplastisizer</th>\n",
       "      <th>coraseaggr</th>\n",
       "      <th>finraggr</th>\n",
       "      <th>age</th>\n",
       "      <th>CCS</th>\n",
       "    </tr>\n",
       "  </thead>\n",
       "  <tbody>\n",
       "    <tr>\n",
       "      <th>1025</th>\n",
       "      <td>276.4</td>\n",
       "      <td>116.0</td>\n",
       "      <td>90.3</td>\n",
       "      <td>179.6</td>\n",
       "      <td>8.9</td>\n",
       "      <td>870.1</td>\n",
       "      <td>768.3</td>\n",
       "      <td>28</td>\n",
       "      <td>44.28</td>\n",
       "    </tr>\n",
       "    <tr>\n",
       "      <th>1026</th>\n",
       "      <td>322.2</td>\n",
       "      <td>0.0</td>\n",
       "      <td>115.6</td>\n",
       "      <td>196.0</td>\n",
       "      <td>10.4</td>\n",
       "      <td>817.9</td>\n",
       "      <td>813.4</td>\n",
       "      <td>28</td>\n",
       "      <td>31.18</td>\n",
       "    </tr>\n",
       "    <tr>\n",
       "      <th>1027</th>\n",
       "      <td>148.5</td>\n",
       "      <td>139.4</td>\n",
       "      <td>108.6</td>\n",
       "      <td>192.7</td>\n",
       "      <td>6.1</td>\n",
       "      <td>892.4</td>\n",
       "      <td>780.0</td>\n",
       "      <td>28</td>\n",
       "      <td>23.70</td>\n",
       "    </tr>\n",
       "    <tr>\n",
       "      <th>1028</th>\n",
       "      <td>159.1</td>\n",
       "      <td>186.7</td>\n",
       "      <td>0.0</td>\n",
       "      <td>175.6</td>\n",
       "      <td>11.3</td>\n",
       "      <td>989.6</td>\n",
       "      <td>788.9</td>\n",
       "      <td>28</td>\n",
       "      <td>32.77</td>\n",
       "    </tr>\n",
       "    <tr>\n",
       "      <th>1029</th>\n",
       "      <td>260.9</td>\n",
       "      <td>100.5</td>\n",
       "      <td>78.3</td>\n",
       "      <td>200.6</td>\n",
       "      <td>8.6</td>\n",
       "      <td>864.5</td>\n",
       "      <td>761.5</td>\n",
       "      <td>28</td>\n",
       "      <td>32.40</td>\n",
       "    </tr>\n",
       "  </tbody>\n",
       "</table>\n",
       "</div>"
      ],
      "text/plain": [
       "      cementcomp   slag  flyash  water  superplastisizer  coraseaggr  \\\n",
       "1025       276.4  116.0    90.3  179.6               8.9       870.1   \n",
       "1026       322.2    0.0   115.6  196.0              10.4       817.9   \n",
       "1027       148.5  139.4   108.6  192.7               6.1       892.4   \n",
       "1028       159.1  186.7     0.0  175.6              11.3       989.6   \n",
       "1029       260.9  100.5    78.3  200.6               8.6       864.5   \n",
       "\n",
       "      finraggr  age    CCS  \n",
       "1025     768.3   28  44.28  \n",
       "1026     813.4   28  31.18  \n",
       "1027     780.0   28  23.70  \n",
       "1028     788.9   28  32.77  \n",
       "1029     761.5   28  32.40  "
      ]
     },
     "execution_count": 9,
     "metadata": {},
     "output_type": "execute_result"
    }
   ],
   "source": [
    "conc.tail()"
   ]
  },
  {
   "cell_type": "code",
   "execution_count": 11,
   "id": "c3fbe979",
   "metadata": {},
   "outputs": [
    {
     "data": {
      "text/plain": [
       "(1030, 9)"
      ]
     },
     "execution_count": 11,
     "metadata": {},
     "output_type": "execute_result"
    }
   ],
   "source": [
    "conc.shape"
   ]
  },
  {
   "cell_type": "code",
   "execution_count": 12,
   "id": "ab218b11",
   "metadata": {},
   "outputs": [
    {
     "data": {
      "text/plain": [
       "cementcomp          float64\n",
       "slag                float64\n",
       "flyash              float64\n",
       "water               float64\n",
       "superplastisizer    float64\n",
       "coraseaggr          float64\n",
       "finraggr            float64\n",
       "age                   int64\n",
       "CCS                 float64\n",
       "dtype: object"
      ]
     },
     "execution_count": 12,
     "metadata": {},
     "output_type": "execute_result"
    }
   ],
   "source": [
    "conc.dtypes"
   ]
  },
  {
   "cell_type": "markdown",
   "id": "5eada72d",
   "metadata": {},
   "source": [
    "# Split the data into train and test"
   ]
  },
  {
   "cell_type": "code",
   "execution_count": 14,
   "id": "c37903a5",
   "metadata": {},
   "outputs": [],
   "source": [
    "trainx,testx,trainy,testy = train_test_split(conc.drop('CCS',1),conc.CCS,test_size=0.3)"
   ]
  },
  {
   "cell_type": "code",
   "execution_count": 15,
   "id": "6cc2783f",
   "metadata": {},
   "outputs": [
    {
     "data": {
      "text/plain": [
       "((721, 8), (721,))"
      ]
     },
     "execution_count": 15,
     "metadata": {},
     "output_type": "execute_result"
    }
   ],
   "source": [
    "trainx.shape,trainy.shape"
   ]
  },
  {
   "cell_type": "code",
   "execution_count": 16,
   "id": "0725137b",
   "metadata": {},
   "outputs": [
    {
     "data": {
      "text/plain": [
       "((309, 8), (309,))"
      ]
     },
     "execution_count": 16,
     "metadata": {},
     "output_type": "execute_result"
    }
   ],
   "source": [
    "testx.shape,testy.shape"
   ]
  },
  {
   "cell_type": "markdown",
   "id": "e77170af",
   "metadata": {},
   "source": [
    "# Build the model"
   ]
  },
  {
   "cell_type": "markdown",
   "id": "e69d62d4",
   "metadata": {},
   "source": [
    "# Linear Regression model (ols)"
   ]
  },
  {
   "cell_type": "code",
   "execution_count": 17,
   "id": "b8be87fd",
   "metadata": {},
   "outputs": [],
   "source": [
    "m1 = smapi.OLS(trainy,trainx).fit()"
   ]
  },
  {
   "cell_type": "markdown",
   "id": "fe063543",
   "metadata": {},
   "source": [
    "#  include code for assumption check/validations "
   ]
  },
  {
   "cell_type": "code",
   "execution_count": 18,
   "id": "72932280",
   "metadata": {},
   "outputs": [],
   "source": [
    "p1 = m1.predict(testx)"
   ]
  },
  {
   "cell_type": "code",
   "execution_count": 19,
   "id": "4e97aa52",
   "metadata": {},
   "outputs": [
    {
     "data": {
      "text/plain": [
       "145    73.183874\n",
       "877    25.409134\n",
       "149    60.357850\n",
       "432    23.000943\n",
       "692    29.301868\n",
       "883    33.694466\n",
       "812    29.846441\n",
       "431    24.617750\n",
       "207    27.623554\n",
       "932    27.841728\n",
       "dtype: float64"
      ]
     },
     "execution_count": 19,
     "metadata": {},
     "output_type": "execute_result"
    }
   ],
   "source": [
    "p1[0:10]"
   ]
  },
  {
   "cell_type": "markdown",
   "id": "60803750",
   "metadata": {},
   "source": [
    "# Decision tree model "
   ]
  },
  {
   "cell_type": "code",
   "execution_count": 20,
   "id": "48664fe4",
   "metadata": {},
   "outputs": [],
   "source": [
    "m2 = DecisionTreeRegressor(criterion='mse').fit(trainx,trainy)"
   ]
  },
  {
   "cell_type": "markdown",
   "id": "038c9841",
   "metadata": {},
   "source": [
    "# Specify the hyper parameters after doing GridSearchCV"
   ]
  },
  {
   "cell_type": "code",
   "execution_count": 22,
   "id": "9655b0e6",
   "metadata": {},
   "outputs": [],
   "source": [
    "p2 = m2.predict(testx)\n",
    "import numpy as np"
   ]
  },
  {
   "cell_type": "code",
   "execution_count": 25,
   "id": "af332a24",
   "metadata": {},
   "outputs": [],
   "source": [
    "df1 = pd.DataFrame({'Actual_CCS':testy,'LR_CCS':np.round(p1,2),'DT_CCS':np.round(p2,2)})"
   ]
  },
  {
   "cell_type": "code",
   "execution_count": 26,
   "id": "32ef5ef2",
   "metadata": {},
   "outputs": [
    {
     "name": "stdout",
     "output_type": "stream",
     "text": [
      "      Actual_CCS  LR_CCS  DT_CCS\n",
      "145        69.30   73.18   66.90\n",
      "877        31.42   25.41   31.42\n",
      "149        64.30   60.36   60.29\n",
      "432        26.20   23.00   16.88\n",
      "692        39.70   29.30   39.66\n",
      "...          ...     ...     ...\n",
      "990        36.35   40.19   36.35\n",
      "640        30.14   30.96   24.07\n",
      "613        11.36   16.73   13.52\n",
      "1019       35.23   19.86   35.23\n",
      "433        46.39   33.21   45.71\n",
      "\n",
      "[309 rows x 3 columns]\n"
     ]
    }
   ],
   "source": [
    "print(df1)"
   ]
  },
  {
   "cell_type": "code",
   "execution_count": 31,
   "id": "821e1ffd",
   "metadata": {},
   "outputs": [
    {
     "data": {
      "text/html": [
       "<div>\n",
       "<style scoped>\n",
       "    .dataframe tbody tr th:only-of-type {\n",
       "        vertical-align: middle;\n",
       "    }\n",
       "\n",
       "    .dataframe tbody tr th {\n",
       "        vertical-align: top;\n",
       "    }\n",
       "\n",
       "    .dataframe thead th {\n",
       "        text-align: right;\n",
       "    }\n",
       "</style>\n",
       "<table border=\"1\" class=\"dataframe\">\n",
       "  <thead>\n",
       "    <tr style=\"text-align: right;\">\n",
       "      <th></th>\n",
       "      <th>Actual_CCS</th>\n",
       "      <th>LR_CCS</th>\n",
       "      <th>DT_CCS</th>\n",
       "    </tr>\n",
       "  </thead>\n",
       "  <tbody>\n",
       "    <tr>\n",
       "      <th>688</th>\n",
       "      <td>2.33</td>\n",
       "      <td>10.87</td>\n",
       "      <td>4.90</td>\n",
       "    </tr>\n",
       "    <tr>\n",
       "      <th>705</th>\n",
       "      <td>3.32</td>\n",
       "      <td>14.16</td>\n",
       "      <td>4.90</td>\n",
       "    </tr>\n",
       "    <tr>\n",
       "      <th>708</th>\n",
       "      <td>6.28</td>\n",
       "      <td>15.02</td>\n",
       "      <td>6.88</td>\n",
       "    </tr>\n",
       "    <tr>\n",
       "      <th>264</th>\n",
       "      <td>19.52</td>\n",
       "      <td>26.78</td>\n",
       "      <td>7.84</td>\n",
       "    </tr>\n",
       "    <tr>\n",
       "      <th>605</th>\n",
       "      <td>6.47</td>\n",
       "      <td>11.91</td>\n",
       "      <td>8.20</td>\n",
       "    </tr>\n",
       "    <tr>\n",
       "      <th>617</th>\n",
       "      <td>9.31</td>\n",
       "      <td>13.00</td>\n",
       "      <td>8.20</td>\n",
       "    </tr>\n",
       "    <tr>\n",
       "      <th>189</th>\n",
       "      <td>10.38</td>\n",
       "      <td>18.77</td>\n",
       "      <td>8.20</td>\n",
       "    </tr>\n",
       "    <tr>\n",
       "      <th>665</th>\n",
       "      <td>11.39</td>\n",
       "      <td>16.29</td>\n",
       "      <td>8.37</td>\n",
       "    </tr>\n",
       "    <tr>\n",
       "      <th>184</th>\n",
       "      <td>11.58</td>\n",
       "      <td>19.48</td>\n",
       "      <td>8.49</td>\n",
       "    </tr>\n",
       "    <tr>\n",
       "      <th>631</th>\n",
       "      <td>17.54</td>\n",
       "      <td>23.76</td>\n",
       "      <td>9.01</td>\n",
       "    </tr>\n",
       "    <tr>\n",
       "      <th>199</th>\n",
       "      <td>15.04</td>\n",
       "      <td>23.97</td>\n",
       "      <td>9.45</td>\n",
       "    </tr>\n",
       "    <tr>\n",
       "      <th>596</th>\n",
       "      <td>10.73</td>\n",
       "      <td>20.03</td>\n",
       "      <td>9.62</td>\n",
       "    </tr>\n",
       "    <tr>\n",
       "      <th>674</th>\n",
       "      <td>13.57</td>\n",
       "      <td>25.90</td>\n",
       "      <td>9.73</td>\n",
       "    </tr>\n",
       "    <tr>\n",
       "      <th>921</th>\n",
       "      <td>9.74</td>\n",
       "      <td>17.93</td>\n",
       "      <td>9.74</td>\n",
       "    </tr>\n",
       "    <tr>\n",
       "      <th>629</th>\n",
       "      <td>11.17</td>\n",
       "      <td>13.98</td>\n",
       "      <td>10.34</td>\n",
       "    </tr>\n",
       "    <tr>\n",
       "      <th>736</th>\n",
       "      <td>12.05</td>\n",
       "      <td>14.12</td>\n",
       "      <td>10.34</td>\n",
       "    </tr>\n",
       "    <tr>\n",
       "      <th>800</th>\n",
       "      <td>13.71</td>\n",
       "      <td>15.75</td>\n",
       "      <td>11.47</td>\n",
       "    </tr>\n",
       "    <tr>\n",
       "      <th>586</th>\n",
       "      <td>14.54</td>\n",
       "      <td>30.21</td>\n",
       "      <td>11.47</td>\n",
       "    </tr>\n",
       "    <tr>\n",
       "      <th>726</th>\n",
       "      <td>14.31</td>\n",
       "      <td>22.74</td>\n",
       "      <td>11.85</td>\n",
       "    </tr>\n",
       "    <tr>\n",
       "      <th>578</th>\n",
       "      <td>17.20</td>\n",
       "      <td>35.22</td>\n",
       "      <td>12.18</td>\n",
       "    </tr>\n",
       "    <tr>\n",
       "      <th>269</th>\n",
       "      <td>15.44</td>\n",
       "      <td>25.36</td>\n",
       "      <td>13.12</td>\n",
       "    </tr>\n",
       "    <tr>\n",
       "      <th>416</th>\n",
       "      <td>15.61</td>\n",
       "      <td>31.04</td>\n",
       "      <td>13.12</td>\n",
       "    </tr>\n",
       "    <tr>\n",
       "      <th>244</th>\n",
       "      <td>19.93</td>\n",
       "      <td>21.83</td>\n",
       "      <td>13.33</td>\n",
       "    </tr>\n",
       "    <tr>\n",
       "      <th>254</th>\n",
       "      <td>13.54</td>\n",
       "      <td>25.81</td>\n",
       "      <td>13.33</td>\n",
       "    </tr>\n",
       "    <tr>\n",
       "      <th>891</th>\n",
       "      <td>13.46</td>\n",
       "      <td>26.59</td>\n",
       "      <td>13.46</td>\n",
       "    </tr>\n",
       "    <tr>\n",
       "      <th>613</th>\n",
       "      <td>11.36</td>\n",
       "      <td>16.73</td>\n",
       "      <td>13.52</td>\n",
       "    </tr>\n",
       "    <tr>\n",
       "      <th>533</th>\n",
       "      <td>11.65</td>\n",
       "      <td>17.91</td>\n",
       "      <td>13.52</td>\n",
       "    </tr>\n",
       "    <tr>\n",
       "      <th>623</th>\n",
       "      <td>12.54</td>\n",
       "      <td>19.26</td>\n",
       "      <td>13.52</td>\n",
       "    </tr>\n",
       "    <tr>\n",
       "      <th>62</th>\n",
       "      <td>9.87</td>\n",
       "      <td>20.25</td>\n",
       "      <td>13.52</td>\n",
       "    </tr>\n",
       "    <tr>\n",
       "      <th>718</th>\n",
       "      <td>10.35</td>\n",
       "      <td>14.60</td>\n",
       "      <td>13.66</td>\n",
       "    </tr>\n",
       "  </tbody>\n",
       "</table>\n",
       "</div>"
      ],
      "text/plain": [
       "     Actual_CCS  LR_CCS  DT_CCS\n",
       "688        2.33   10.87    4.90\n",
       "705        3.32   14.16    4.90\n",
       "708        6.28   15.02    6.88\n",
       "264       19.52   26.78    7.84\n",
       "605        6.47   11.91    8.20\n",
       "617        9.31   13.00    8.20\n",
       "189       10.38   18.77    8.20\n",
       "665       11.39   16.29    8.37\n",
       "184       11.58   19.48    8.49\n",
       "631       17.54   23.76    9.01\n",
       "199       15.04   23.97    9.45\n",
       "596       10.73   20.03    9.62\n",
       "674       13.57   25.90    9.73\n",
       "921        9.74   17.93    9.74\n",
       "629       11.17   13.98   10.34\n",
       "736       12.05   14.12   10.34\n",
       "800       13.71   15.75   11.47\n",
       "586       14.54   30.21   11.47\n",
       "726       14.31   22.74   11.85\n",
       "578       17.20   35.22   12.18\n",
       "269       15.44   25.36   13.12\n",
       "416       15.61   31.04   13.12\n",
       "244       19.93   21.83   13.33\n",
       "254       13.54   25.81   13.33\n",
       "891       13.46   26.59   13.46\n",
       "613       11.36   16.73   13.52\n",
       "533       11.65   17.91   13.52\n",
       "623       12.54   19.26   13.52\n",
       "62         9.87   20.25   13.52\n",
       "718       10.35   14.60   13.66"
      ]
     },
     "execution_count": 31,
     "metadata": {},
     "output_type": "execute_result"
    }
   ],
   "source": [
    "df1.sort_values(['DT_CCS','LR_CCS'])[0:30]"
   ]
  },
  {
   "cell_type": "markdown",
   "id": "c85e16e9",
   "metadata": {},
   "source": [
    "# RMSE for the two models"
   ]
  },
  {
   "cell_type": "code",
   "execution_count": 32,
   "id": "7b716961",
   "metadata": {},
   "outputs": [],
   "source": [
    "rmse1,rmse2 = mean_squared_error(testy,p1),mean_squared_error(testy,p2)"
   ]
  },
  {
   "cell_type": "code",
   "execution_count": 33,
   "id": "8a015089",
   "metadata": {},
   "outputs": [
    {
     "name": "stdout",
     "output_type": "stream",
     "text": [
      "MSE comparison\n",
      "\t OLS =113.51625231759488\n",
      "\t DT= 37.10012928802589\n"
     ]
    }
   ],
   "source": [
    "print(\"MSE comparison\\n\\t OLS ={}\\n\\t DT= {}\".format(rmse1,rmse2))"
   ]
  },
  {
   "cell_type": "code",
   "execution_count": null,
   "id": "342c2fee",
   "metadata": {},
   "outputs": [],
   "source": []
  },
  {
   "cell_type": "code",
   "execution_count": null,
   "id": "16aa42ce",
   "metadata": {},
   "outputs": [],
   "source": []
  },
  {
   "cell_type": "code",
   "execution_count": null,
   "id": "0aad00f8",
   "metadata": {},
   "outputs": [],
   "source": []
  },
  {
   "cell_type": "code",
   "execution_count": null,
   "id": "dbe25c0a",
   "metadata": {},
   "outputs": [],
   "source": []
  },
  {
   "cell_type": "code",
   "execution_count": null,
   "id": "e020da5d",
   "metadata": {},
   "outputs": [],
   "source": []
  },
  {
   "cell_type": "code",
   "execution_count": null,
   "id": "7e1dccc9",
   "metadata": {},
   "outputs": [],
   "source": []
  },
  {
   "cell_type": "code",
   "execution_count": null,
   "id": "f5431b48",
   "metadata": {},
   "outputs": [],
   "source": []
  },
  {
   "cell_type": "code",
   "execution_count": null,
   "id": "9dce1d8e",
   "metadata": {},
   "outputs": [],
   "source": []
  },
  {
   "cell_type": "code",
   "execution_count": null,
   "id": "9c109971",
   "metadata": {},
   "outputs": [],
   "source": []
  },
  {
   "cell_type": "code",
   "execution_count": null,
   "id": "16daa64c",
   "metadata": {},
   "outputs": [],
   "source": []
  },
  {
   "cell_type": "code",
   "execution_count": null,
   "id": "a78ac372",
   "metadata": {},
   "outputs": [],
   "source": []
  },
  {
   "cell_type": "code",
   "execution_count": null,
   "id": "4ce2a39e",
   "metadata": {},
   "outputs": [],
   "source": []
  },
  {
   "cell_type": "code",
   "execution_count": null,
   "id": "0ed8c1cf",
   "metadata": {},
   "outputs": [],
   "source": []
  }
 ],
 "metadata": {
  "kernelspec": {
   "display_name": "Python 3",
   "language": "python",
   "name": "python3"
  },
  "language_info": {
   "codemirror_mode": {
    "name": "ipython",
    "version": 3
   },
   "file_extension": ".py",
   "mimetype": "text/x-python",
   "name": "python",
   "nbconvert_exporter": "python",
   "pygments_lexer": "ipython3",
   "version": "3.8.8"
  }
 },
 "nbformat": 4,
 "nbformat_minor": 5
}
